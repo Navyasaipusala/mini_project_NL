{
  "nbformat": 4,
  "nbformat_minor": 0,
  "metadata": {
    "colab": {
      "provenance": [],
      "authorship_tag": "ABX9TyO6WnULdhebsxElVwKVodHy",
      "include_colab_link": true
    },
    "kernelspec": {
      "name": "python3",
      "display_name": "Python 3"
    },
    "language_info": {
      "name": "python"
    }
  },
  "cells": [
    {
      "cell_type": "markdown",
      "metadata": {
        "id": "view-in-github",
        "colab_type": "text"
      },
      "source": [
        "<a href=\"https://colab.research.google.com/github/Navyasaipusala/mini_project_NL/blob/main/MINI_PROJECT(700762307).ipynb\" target=\"_parent\"><img src=\"https://colab.research.google.com/assets/colab-badge.svg\" alt=\"Open In Colab\"/></a>"
      ]
    },
    {
      "cell_type": "code",
      "execution_count": 1,
      "metadata": {
        "colab": {
          "base_uri": "https://localhost:8080/"
        },
        "id": "XRqRsmEJ94Ua",
        "outputId": "13599545-addc-4562-b1b8-e755a2a6e209"
      },
      "outputs": [
        {
          "output_type": "stream",
          "name": "stdout",
          "text": [
            " * Serving Flask app '__main__'\n",
            " * Debug mode: on\n"
          ]
        },
        {
          "output_type": "stream",
          "name": "stderr",
          "text": [
            "INFO:werkzeug:\u001b[31m\u001b[1mWARNING: This is a development server. Do not use it in a production deployment. Use a production WSGI server instead.\u001b[0m\n",
            " * Running on http://127.0.0.1:5000\n",
            "INFO:werkzeug:\u001b[33mPress CTRL+C to quit\u001b[0m\n",
            "INFO:werkzeug: * Restarting with stat\n"
          ]
        }
      ],
      "source": [
        "import os\n",
        "import pandas as pd\n",
        "import numpy as np\n",
        "import tensorflow as tf\n",
        "from flask import Flask, request, render_template, send_from_directory\n",
        "from tensorflow.keras.preprocessing import image\n",
        "from keras.models import load_model\n",
        "\n",
        "app = Flask(__name__)\n",
        "\n",
        "classes = ['MildDemented', 'ModerateDemented', 'NonDemented', 'VeryMildDemented']\n",
        "\n",
        "\n",
        "@app.route(\"/\")\n",
        "def index():\n",
        "    return render_template(\"index.html\")\n",
        "\n",
        "\n",
        "@app.route(\"/about\")\n",
        "def about():\n",
        "    return render_template(\"about.html\")\n",
        "\n",
        "\n",
        "@app.route(\"/upload/<filename>\")\n",
        "def send_image(filename):\n",
        "    return send_from_directory(\"images\", filename)\n",
        "\n",
        "@app.route(\"/upload\", methods=[\"POST\", \"GET\"])\n",
        "def upload():\n",
        "    if request.method == 'POST':\n",
        "        print(\"hdgkj\")\n",
        "        m = int(request.form[\"alg\"])\n",
        "        acc = pd.read_csv(\"Accuracy.csv\")\n",
        "\n",
        "        myfile = request.files['file']\n",
        "        fn = myfile.filename\n",
        "        mypath = os.path.join(\"images/\", fn)\n",
        "        myfile.save(mypath)\n",
        "\n",
        "        print(\"{} is the file name\", fn)\n",
        "        print(\"Accept incoming file:\", fn)\n",
        "        print(\"Save it to:\", mypath)\n",
        "\n",
        "        if m == 1:\n",
        "            print(\"bv1\")\n",
        "            new_model = load_model(r'model/cnn.h5')\n",
        "            test_image = image.load_img(mypath, target_size=(128, 128))\n",
        "            test_image = image.img_to_array(test_image)\n",
        "            test_image/=255\n",
        "            a = acc.iloc[m - 1, 1]\n",
        "\n",
        "        elif m == 2:\n",
        "            print(\"bv2\")\n",
        "            new_model = load_model(r'model/Mobilenet.h5')\n",
        "            test_image = image.load_img(mypath, target_size=(128, 128))\n",
        "            test_image = image.img_to_array(test_image)\n",
        "            test_image /= 255\n",
        "            a = acc.iloc[m - 1, 1]\n",
        "\n",
        "        elif m == 4:\n",
        "            print(\"bv3\")\n",
        "            new_model = load_model(r'model/vgg.h5')\n",
        "            test_image = image.load_img(mypath, target_size=(128, 128))\n",
        "            test_image = image.img_to_array(test_image)\n",
        "            test_image /= 255\n",
        "            a = acc.iloc[m - 1, 1]\n",
        "\n",
        "        else:\n",
        "            print(\"bv4\")\n",
        "            new_model = load_model(r'model/Alexnet.h5')\n",
        "            test_image = image.load_img(mypath, target_size=(128, 128))\n",
        "            test_image = image.img_to_array(test_image)\n",
        "            test_image /= 255\n",
        "            a = acc.iloc[m - 1, 1]\n",
        "\n",
        "\n",
        "        test_image = np.expand_dims(test_image, axis=0)\n",
        "        result = new_model.predict(test_image)\n",
        "        preds = classes[np.argmax(result)]\n",
        "\n",
        "        return render_template(\"template.html\", text=preds, image_name=fn,a=round(a*100,3))\n",
        "    return render_template(\"index.html\")\n",
        "\n",
        "\n",
        "if __name__ == '__main__':\n",
        "    app.run(debug=True)"
      ]
    }
  ]
}